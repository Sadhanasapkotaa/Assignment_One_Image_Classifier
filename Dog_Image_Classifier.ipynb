{
  "nbformat": 4,
  "nbformat_minor": 0,
  "metadata": {
    "colab": {
      "provenance": [],
      "mount_file_id": "1Evpz6VyHa0mnk6TLSR2GPtXzyzH5N8y7",
      "authorship_tag": "ABX9TyPlTOe/bqDLr+2UC0ai1QZB",
      "include_colab_link": true
    },
    "kernelspec": {
      "name": "python3",
      "display_name": "Python 3"
    },
    "language_info": {
      "name": "python"
    }
  },
  "cells": [
    {
      "cell_type": "markdown",
      "metadata": {
        "id": "view-in-github",
        "colab_type": "text"
      },
      "source": [
        "<a href=\"https://colab.research.google.com/github/Sadhanasapkotaa/Assignment_One_Image_Classifier/blob/main/Dog_Image_Classifier.ipynb\" target=\"_parent\"><img src=\"https://colab.research.google.com/assets/colab-badge.svg\" alt=\"Open In Colab\"/></a>"
      ]
    },
    {
      "cell_type": "code",
      "execution_count": 1,
      "metadata": {
        "id": "6tW_v-e7u-sz"
      },
      "outputs": [],
      "source": [
        "from os import listdir"
      ]
    },
    {
      "cell_type": "code",
      "source": [
        "names=listdir('/content/drive/MyDrive/pet_images-20241111T162007Z-001/pet_images')\n",
        "names"
      ],
      "metadata": {
        "colab": {
          "base_uri": "https://localhost:8080/"
        },
        "id": "OAviZS1DvHio",
        "outputId": "b675e660-a2ff-486f-e1b9-47e2b474bcdc"
      },
      "execution_count": 2,
      "outputs": [
        {
          "output_type": "execute_result",
          "data": {
            "text/plain": [
              "['Basenji_00974.jpg',\n",
              " 'Basenji_00963.jpg',\n",
              " 'Basset_hound_01034.jpg',\n",
              " 'Beagle_01125.jpg',\n",
              " 'Beagle_01170.jpg',\n",
              " 'Beagle_01141.jpg',\n",
              " 'Boston_terrier_02259.jpg',\n",
              " 'Boston_terrier_02285.jpg',\n",
              " 'Boston_terrier_02303.jpg',\n",
              " 'Boxer_02426.jpg',\n",
              " 'cat_01.jpg',\n",
              " 'cat_07.jpg',\n",
              " 'cat_02.jpg',\n",
              " 'Cocker_spaniel_03750.jpg',\n",
              " 'Collie_03797.jpg',\n",
              " 'Dalmatian_04017.jpg',\n",
              " 'Dalmatian_04068.jpg',\n",
              " 'Dalmatian_04037.jpg',\n",
              " 'fox_squirrel_01.jpg',\n",
              " 'gecko_02.jpg',\n",
              " 'German_shepherd_dog_04890.jpg',\n",
              " 'German_shepherd_dog_04931.jpg',\n",
              " 'gecko_80.jpg',\n",
              " 'German_shorthaired_pointer_04986.jpg',\n",
              " 'Golden_retriever_05182.jpg',\n",
              " 'Golden_retriever_05195.jpg',\n",
              " 'Golden_retriever_05223.jpg',\n",
              " 'Golden_retriever_05257.jpg',\n",
              " 'Great_dane_05320.jpg',\n",
              " 'Great_pyrenees_05367.jpg',\n",
              " 'great_horned_owl_02.jpg',\n",
              " 'Great_pyrenees_05435.jpg',\n",
              " 'Miniature_schnauzer_06884.jpg',\n",
              " 'polar_bear_04.jpg',\n",
              " 'Poodle_07927.jpg',\n",
              " 'Poodle_07956.jpg',\n",
              " 'Saint_bernard_08010.jpg',\n",
              " 'Rabbit_002.jpg',\n",
              " 'Saint_bernard_08036.jpg',\n",
              " 'skunk_029.jpg']"
            ]
          },
          "metadata": {},
          "execution_count": 2
        }
      ]
    },
    {
      "cell_type": "code",
      "source": [
        "\n",
        "def get_pet_labels(names):\n",
        "    results_dic = {}\n",
        "\n",
        "    for filename in names:\n",
        "        # Only process files that are image files (ending with .jpg)\n",
        "        if filename.endswith('.jpg'):\n",
        "            # Generate pet label by removing digits and converting to lowercase\n",
        "            label = ''.join([char if char.isalpha() else ' ' for char in filename.split('.')[0]]).strip().lower()\n",
        "\n",
        "            # Add filename as key and label as list value\n",
        "            results_dic[filename] = [label]\n",
        "\n",
        "    return results_dic"
      ],
      "metadata": {
        "id": "BwtJeYWvzQm8"
      },
      "execution_count": 6,
      "outputs": []
    },
    {
      "cell_type": "code",
      "source": [
        "dog_names = '/content/drive/MyDrive/dog_names.txt'"
      ],
      "metadata": {
        "id": "acE3Zu5SAFcU"
      },
      "execution_count": null,
      "outputs": []
    }
  ]
}